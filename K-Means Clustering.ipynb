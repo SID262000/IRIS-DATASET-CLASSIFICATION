{
 "cells": [
  {
   "cell_type": "code",
   "execution_count": 4,
   "id": "e799a5b2",
   "metadata": {},
   "outputs": [],
   "source": [
    "import numpy as np\n",
    "import pandas as pd\n",
    "import matplotlib.pyplot as plt\n",
    "iris =   pd.read_csv(\"Iris.csv\") #reading Iris csv"
   ]
  },
  {
   "cell_type": "code",
   "execution_count": 10,
   "id": "44bfdfb7",
   "metadata": {},
   "outputs": [],
   "source": [
    "#Pre-Processing the dataset \n",
    "from sklearn.model_selection import train_test_split\n",
    "x = iris.iloc[:, :-1].values #last column values excluded\n",
    "y = iris.iloc[:,   -1].values #last column value"
   ]
  },
  {
   "cell_type": "code",
   "execution_count": 11,
   "id": "76af3a4d",
   "metadata": {},
   "outputs": [],
   "source": [
    "#Splitting the dataset into test & train\n",
    "from sklearn.model_selection import train_test_split\n",
    "x_train,x_test,y_train,y_test = train_test_split(x,y,test_size=0.2,random_state=0)  "
   ]
  },
  {
   "cell_type": "code",
   "execution_count": 12,
   "id": "61e6c44d",
   "metadata": {},
   "outputs": [],
   "source": [
    "#Using K-means clustering on Iris dataset\n",
    "from sklearn.datasets import load_iris\n",
    "from sklearn.cluster import KMeans"
   ]
  },
  {
   "cell_type": "code",
   "execution_count": 13,
   "id": "30cc2d14",
   "metadata": {},
   "outputs": [],
   "source": [
    "#loading iris dataset from sklearn.datasets\n",
    "iris_data=load_iris()   "
   ]
  },
  {
   "cell_type": "code",
   "execution_count": 14,
   "id": "861dda0c",
   "metadata": {},
   "outputs": [],
   "source": [
    "#creating dataframe\n",
    "iris_df = pd.DataFrame(iris_data.data, columns = iris_data.feature_names) "
   ]
  },
  {
   "cell_type": "code",
   "execution_count": 15,
   "id": "39aa77e6",
   "metadata": {},
   "outputs": [],
   "source": [
    "kmeans = KMeans(n_clusters=3,init = 'k-means++',   max_iter = 100, n_init = 10, random_state =0)"
   ]
  },
  {
   "cell_type": "code",
   "execution_count": 16,
   "id": "2e541758",
   "metadata": {},
   "outputs": [],
   "source": [
    "y_kmeans = kmeans.fit_predict(x)"
   ]
  },
  {
   "cell_type": "code",
   "execution_count": 17,
   "id": "045c3af8",
   "metadata": {},
   "outputs": [
    {
     "name": "stdout",
     "output_type": "stream",
     "text": [
      "[[5.9016129  2.7483871  4.39354839 1.43387097]\n",
      " [5.006      3.418      1.464      0.244     ]\n",
      " [6.85       3.07368421 5.74210526 2.07105263]]\n"
     ]
    }
   ],
   "source": [
    "#display cluster centers\n",
    "print(kmeans.cluster_centers_) "
   ]
  },
  {
   "cell_type": "code",
   "execution_count": 26,
   "id": "4d338131",
   "metadata": {},
   "outputs": [
    {
     "data": {
      "image/png": "[encoded data removed]",
      "text/plain": [
       "<Figure size 432x288 with 1 Axes>"
      ]
     },
     "metadata": {
      "needs_background": "light"
     },
     "output_type": "display_data"
    }
   ],
   "source": [
    "plt.scatter(x[y_kmeans   == 0, 0], x[y_kmeans == 0, 1],s = 100, c = 'red', label = 'Iris-setosa')\n",
    "plt.scatter(x[y_kmeans   == 1, 0], x[y_kmeans == 1, 1],s = 100, c = 'blue', label = 'Iris-versicolour')\n",
    "plt.scatter(x[y_kmeans   == 2, 0], x[y_kmeans == 2, 1],s = 100, c = 'green', label = 'Iris-virginica')\n",
    "plt.scatter(kmeans.cluster_centers_[:,   0], kmeans.cluster_centers_[:,1],s = 100, c = 'black', label = 'Centroids')   #plotting the centroids of the clusters\n",
    "\n",
    "plt.legend()\n",
    "plt.show()"
   ]
  },
  {
   "cell_type": "code",
   "execution_count": null,
   "id": "8c5382a1",
   "metadata": {},
   "outputs": [],
   "source": []
  }
 ],
 "metadata": {
  "kernelspec": {
   "display_name": "Python 3",
   "language": "python",
   "name": "python3"
  },
  "language_info": {
   "codemirror_mode": {
    "name": "ipython",
    "version": 3
   },
   "file_extension": ".py",
   "mimetype": "text/x-python",
   "name": "python",
   "nbconvert_exporter": "python",
   "pygments_lexer": "ipython3",
   "version": "3.8.8"
  }
 },
 "nbformat": 4,
 "nbformat_minor": 5
}
